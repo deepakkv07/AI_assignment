{
 "cells": [
  {
   "cell_type": "code",
   "execution_count": 1,
   "metadata": {},
   "outputs": [
    {
     "name": "stderr",
     "output_type": "stream",
     "text": [
      "Using TensorFlow backend.\n"
     ]
    }
   ],
   "source": [
    "#importing classes and functions needed\n",
    "import numpy\n",
    "from keras.datasets import mnist\n",
    "from keras.models import Sequential\n",
    "from keras.layers import Dense\n",
    "from keras.layers import Dropout\n",
    "from keras.utils import np_utils\n",
    "from keras import optimizers\n",
    "import matplotlib.pyplot as plt"
   ]
  },
  {
   "cell_type": "code",
   "execution_count": 2,
   "metadata": {},
   "outputs": [],
   "source": [
    "#fix random seed for reproducability of results\n",
    "seed=4\n",
    "numpy.random.seed(seed)"
   ]
  },
  {
   "cell_type": "code",
   "execution_count": 3,
   "metadata": {},
   "outputs": [],
   "source": [
    "#Load or download mnist database\n",
    "(X_train,Y_train),(X_test,Y_test) = mnist.load_data()"
   ]
  },
  {
   "cell_type": "code",
   "execution_count": 4,
   "metadata": {},
   "outputs": [],
   "source": [
    "# flatten 28*28 images to a 784 vector for each image\n",
    "num_pixels = X_train.shape[1] * X_train.shape[2]\n",
    "X_train = X_train.reshape(X_train.shape[0],num_pixels).astype('float32')\n",
    "X_test = X_test.reshape(X_test.shape[0],num_pixels).astype('float32')"
   ]
  },
  {
   "cell_type": "code",
   "execution_count": 5,
   "metadata": {},
   "outputs": [],
   "source": [
    "# normalize inputs from 0-255 to 0-1\n",
    "X_train = X_train / 255\n",
    "X_test = X_test / 255"
   ]
  },
  {
   "cell_type": "code",
   "execution_count": 6,
   "metadata": {},
   "outputs": [],
   "source": [
    "# one hot encode outputs\n",
    "Y_train  = np_utils.to_categorical(Y_train)\n",
    "Y_test = np_utils.to_categorical(Y_test)\n",
    "num_classes = Y_test.shape[1]"
   ]
  },
  {
   "cell_type": "code",
   "execution_count": 7,
   "metadata": {
    "scrolled": true
   },
   "outputs": [],
   "source": [
    "def baseline_model():\n",
    "    # create model\n",
    "    model = Sequential()\n",
    "    model.add(Dense(num_pixels,input_dim=num_pixels,kernel_initializer='normal', activation='relu'))\n",
    "    model.add(Dense(num_pixels, kernel_initializer='normal',activation='relu'))\n",
    "    model.add(Dense(num_pixels, kernel_initializer='normal',activation='relu'))\n",
    "    model.add(Dense(num_classes, kernel_initializer='normal',activation='sigmoid'))\n",
    "    # compile model\n",
    "    #sgd = optimizers.SGD(lr=0.01, decay=1e-6, momentum=0.9, nesterov=False  )\n",
    "    #model.compile(loss='categorical_crossentropy', optimizer=sgd,metrics=['accuracy'])\n",
    "    model.compile(loss='categorical_crossentropy', optimizer='adagrad', metrics=['accuracy'])\n",
    "    return model"
   ]
  },
  {
   "cell_type": "code",
   "execution_count": 8,
   "metadata": {},
   "outputs": [],
   "source": [
    "#RESULTS\n",
    "# sgd-momentum-crossentropy ~3.53\n",
    "# sgd-momentum-mse  ~8.58\n",
    "# adagrad-crossentropy ~1.54 with three hidden layers being optimum.\n",
    "# adagrad-mse ~2.56"
   ]
  },
  {
   "cell_type": "code",
   "execution_count": 9,
   "metadata": {},
   "outputs": [
    {
     "name": "stdout",
     "output_type": "stream",
     "text": [
      "Train on 60000 samples, validate on 10000 samples\n",
      "Epoch 1/10\n",
      " - 24s - loss: 0.3099 - acc: 0.9084 - val_loss: 0.1006 - val_acc: 0.9693\n",
      "Epoch 2/10\n",
      " - 28s - loss: 0.0607 - acc: 0.9811 - val_loss: 0.0762 - val_acc: 0.9759\n",
      "Epoch 3/10\n",
      " - 24s - loss: 0.0316 - acc: 0.9907 - val_loss: 0.0600 - val_acc: 0.9826\n",
      "Epoch 4/10\n",
      " - 24s - loss: 0.0160 - acc: 0.9958 - val_loss: 0.0627 - val_acc: 0.9818\n",
      "Epoch 5/10\n",
      " - 24s - loss: 0.0076 - acc: 0.9984 - val_loss: 0.0588 - val_acc: 0.9851\n",
      "Epoch 6/10\n",
      " - 24s - loss: 0.0039 - acc: 0.9993 - val_loss: 0.0622 - val_acc: 0.9831\n",
      "Epoch 7/10\n",
      " - 29s - loss: 0.0019 - acc: 0.9998 - val_loss: 0.0641 - val_acc: 0.9831\n",
      "Epoch 8/10\n",
      " - 25s - loss: 0.0012 - acc: 0.9999 - val_loss: 0.0649 - val_acc: 0.9837\n",
      "Epoch 9/10\n",
      " - 25s - loss: 6.6938e-04 - acc: 1.0000 - val_loss: 0.0674 - val_acc: 0.9837\n",
      "Epoch 10/10\n",
      " - 26s - loss: 4.6587e-04 - acc: 1.0000 - val_loss: 0.0665 - val_acc: 0.9846\n"
     ]
    }
   ],
   "source": [
    "#build the model\n",
    "model = baseline_model()\n",
    "#fit the model\n",
    "history = model.fit(X_train,Y_train,validation_data=(X_test,Y_test),epochs=10,batch_size=200, verbose=2)"
   ]
  },
  {
   "cell_type": "code",
   "execution_count": 10,
   "metadata": {},
   "outputs": [
    {
     "name": "stdout",
     "output_type": "stream",
     "text": [
      "Baseline error: 1.54%\n"
     ]
    }
   ],
   "source": [
    "#error rate of the model\n",
    "scores = model.evaluate(X_test,Y_test, verbose=0)\n",
    "print(\"Baseline error: %.2f%%\" % (100-scores[1]*100))"
   ]
  },
  {
   "cell_type": "code",
   "execution_count": 11,
   "metadata": {},
   "outputs": [
    {
     "data": {
      "image/png": "[encoded data removed]",
      "text/plain": [
       "<matplotlib.figure.Figure at 0x7f064e187400>"
      ]
     },
     "metadata": {},
     "output_type": "display_data"
    }
   ],
   "source": [
    "# summarize history for accuracy\n",
    "plt.plot(history.history['acc'])\n",
    "plt.plot(history.history['val_acc'])\n",
    "plt.title('model accuracy')\n",
    "plt.ylabel('accuracy')\n",
    "plt.xlabel('epoch')\n",
    "plt.legend(['train', 'test'], loc='upper left')\n",
    "plt.show()"
   ]
  },
  {
   "cell_type": "code",
   "execution_count": 12,
   "metadata": {},
   "outputs": [
    {
     "data": {
      "image/png": "[encoded data removed]",
      "text/plain": [
       "<matplotlib.figure.Figure at 0x7f064e1079e8>"
      ]
     },
     "metadata": {},
     "output_type": "display_data"
    }
   ],
   "source": [
    "# summarize history for loss\n",
    "plt.plot(history.history['loss'])\n",
    "plt.plot(history.history['val_loss'])\n",
    "plt.title('model loss')\n",
    "plt.ylabel('loss')\n",
    "plt.xlabel('epoch')\n",
    "plt.legend(['train', 'test'], loc='upper left')\n",
    "plt.show()"
   ]
  }
 ],
 "metadata": {
  "kernelspec": {
   "display_name": "Python 3",
   "language": "python",
   "name": "python3"
  },
  "language_info": {
   "codemirror_mode": {
    "name": "ipython",
    "version": 3
   },
   "file_extension": ".py",
   "mimetype": "text/x-python",
   "name": "python",
   "nbconvert_exporter": "python",
   "pygments_lexer": "ipython3",
   "version": "3.5.2"
  }
 },
 "nbformat": 4,
 "nbformat_minor": 2
}
