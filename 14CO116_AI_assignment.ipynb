{
 "cells": [
  {
   "cell_type": "code",
   "execution_count": 1,
   "metadata": {},
   "outputs": [
    {
     "name": "stderr",
     "output_type": "stream",
     "text": [
      "Using TensorFlow backend.\n"
     ]
    }
   ],
   "source": [
    "#importing classes and functions needed\n",
    "import numpy\n",
    "from keras.datasets import mnist\n",
    "from keras.models import Sequential\n",
    "from keras.layers import Dense\n",
    "from keras.layers import Dropout\n",
    "from keras.utils import np_utils\n",
    "from keras import optimizers"
   ]
  },
  {
   "cell_type": "code",
   "execution_count": 2,
   "metadata": {},
   "outputs": [],
   "source": [
    "#fix random seed for reproducability of results\n",
    "seed=4\n",
    "numpy.random.seed(seed)"
   ]
  },
  {
   "cell_type": "code",
   "execution_count": 3,
   "metadata": {},
   "outputs": [],
   "source": [
    "#Load or download mnist database\n",
    "(X_train,Y_train),(X_test,Y_test) = mnist.load_data()"
   ]
  },
  {
   "cell_type": "code",
   "execution_count": 4,
   "metadata": {},
   "outputs": [],
   "source": [
    "# flatten 28*28 images to a 784 vector for each image\n",
    "num_pixels = X_train.shape[1] * X_train.shape[2]\n",
    "X_train = X_train.reshape(X_train.shape[0],num_pixels).astype('float32')\n",
    "X_test = X_test.reshape(X_test.shape[0],num_pixels).astype('float32')"
   ]
  },
  {
   "cell_type": "code",
   "execution_count": 5,
   "metadata": {},
   "outputs": [],
   "source": [
    "# normalize inputs from 0-255 to 0-1\n",
    "X_train = X_train / 255\n",
    "X_test = X_test / 255"
   ]
  },
  {
   "cell_type": "code",
   "execution_count": 6,
   "metadata": {},
   "outputs": [],
   "source": [
    "# one hot encode outputs\n",
    "Y_train  = np_utils.to_categorical(Y_train)\n",
    "Y_test = np_utils.to_categorical(Y_test)\n",
    "num_classes = Y_test.shape[1]"
   ]
  },
  {
   "cell_type": "code",
   "execution_count": 7,
   "metadata": {
    "scrolled": true
   },
   "outputs": [],
   "source": [
    "def baseline_model():\n",
    "    # create model\n",
    "    model = Sequential()\n",
    "    model.add(Dense(num_pixels*2,input_dim=num_pixels,kernel_initializer='normal', activation='relu'))\n",
    "    model.add(Dense(num_classes, kernel_initializer='normal',activation='sigmoid'))\n",
    "    # compile model\n",
    "    #sgd = optimizers.SGD(lr=0.01, decay=1e-6, momentum=0.9, nesterov=False  )\n",
    "    #model.compile(loss='categorical_crossentropy', optimizer=sgd,metrics=['accuracy'])\n",
    "    model.compile(loss='categorical_crossentropy', optimizer='adagrad', metrics=['accuracy'])\n",
    "    return model"
   ]
  },
  {
   "cell_type": "code",
   "execution_count": 8,
   "metadata": {},
   "outputs": [],
   "source": [
    "# sgd-momentum-crossentropy ~3.53\n",
    "# sgd-momentum-mse  ~8.58\n",
    "# adagrad-crossentropy ~1.76\n",
    "# adagrad-mse ~2.56"
   ]
  },
  {
   "cell_type": "code",
   "execution_count": 9,
   "metadata": {},
   "outputs": [
    {
     "name": "stdout",
     "output_type": "stream",
     "text": [
      "Train on 60000 samples, validate on 10000 samples\n",
      "Epoch 1/10\n",
      " - 17s - loss: 0.2728 - acc: 0.9207 - val_loss: 0.1104 - val_acc: 0.9678\n",
      "Epoch 2/10\n",
      " - 15s - loss: 0.0882 - acc: 0.9748 - val_loss: 0.0839 - val_acc: 0.9742\n",
      "Epoch 3/10\n",
      " - 15s - loss: 0.0619 - acc: 0.9833 - val_loss: 0.0716 - val_acc: 0.9779\n",
      "Epoch 4/10\n",
      " - 15s - loss: 0.0469 - acc: 0.9878 - val_loss: 0.0672 - val_acc: 0.9792\n",
      "Epoch 5/10\n",
      " - 15s - loss: 0.0377 - acc: 0.9903 - val_loss: 0.0648 - val_acc: 0.9787\n",
      "Epoch 6/10\n",
      " - 15s - loss: 0.0307 - acc: 0.9928 - val_loss: 0.0621 - val_acc: 0.9807\n",
      "Epoch 7/10\n",
      " - 15s - loss: 0.0257 - acc: 0.9946 - val_loss: 0.0596 - val_acc: 0.9814\n",
      "Epoch 8/10\n",
      " - 15s - loss: 0.0218 - acc: 0.9962 - val_loss: 0.0585 - val_acc: 0.9809\n",
      "Epoch 9/10\n",
      " - 16s - loss: 0.0187 - acc: 0.9972 - val_loss: 0.0577 - val_acc: 0.9810\n",
      "Epoch 10/10\n",
      " - 15s - loss: 0.0163 - acc: 0.9976 - val_loss: 0.0563 - val_acc: 0.9822\n"
     ]
    },
    {
     "data": {
      "text/plain": [
       "<keras.callbacks.History at 0x7fc20adb93c8>"
      ]
     },
     "execution_count": 9,
     "metadata": {},
     "output_type": "execute_result"
    }
   ],
   "source": [
    "#build the model\n",
    "model = baseline_model()\n",
    "#fit the model\n",
    "model.fit(X_train,Y_train,validation_data=(X_test,Y_test),epochs=10,batch_size=200, verbose=2)"
   ]
  },
  {
   "cell_type": "code",
   "execution_count": 10,
   "metadata": {},
   "outputs": [
    {
     "name": "stdout",
     "output_type": "stream",
     "text": [
      "Baseline error: 1.78%\n"
     ]
    }
   ],
   "source": [
    "#error rate of the model\n",
    "scores = model.evaluate(X_test,Y_test, verbose=0)\n",
    "print(\"Baseline error: %.2f%%\" % (100-scores[1]*100))"
   ]
  }
 ],
 "metadata": {
  "kernelspec": {
   "display_name": "Python 3",
   "language": "python",
   "name": "python3"
  },
  "language_info": {
   "codemirror_mode": {
    "name": "ipython",
    "version": 3
   },
   "file_extension": ".py",
   "mimetype": "text/x-python",
   "name": "python",
   "nbconvert_exporter": "python",
   "pygments_lexer": "ipython3",
   "version": "3.5.2"
  }
 },
 "nbformat": 4,
 "nbformat_minor": 2
}
